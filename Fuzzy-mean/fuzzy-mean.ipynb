{
  "cells": [
    {
      "cell_type": "markdown",
      "metadata": {
        "id": "u-3MmQekEL_c"
      },
      "source": [
        "Fuzzy C Mean Implementation in Python\n",
        "\n",
        "Dataset Presentation"
      ]
    },
    {
      "cell_type": "code",
      "execution_count": 1,
      "metadata": {
        "colab": {
          "base_uri": "https://localhost:8080/"
        },
        "id": "fk9MXF6IEL_k",
        "outputId": "88313baa-b04c-4902-ff4a-4fba71c36088"
      },
      "outputs": [
        {
          "output_type": "stream",
          "name": "stdout",
          "text": [
            "hello world\n"
          ]
        }
      ],
      "source": [
        "print(\"hello world\")"
      ]
    }
  ],
  "metadata": {
    "language_info": {
      "name": "python"
    },
    "colab": {
      "provenance": []
    },
    "kernelspec": {
      "name": "python3",
      "display_name": "Python 3"
    }
  },
  "nbformat": 4,
  "nbformat_minor": 0
}